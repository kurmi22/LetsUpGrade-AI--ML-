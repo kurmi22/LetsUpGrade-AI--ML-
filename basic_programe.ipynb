{
  "nbformat": 4,
  "nbformat_minor": 0,
  "metadata": {
    "colab": {
      "name": "basic programe.ipynb",
      "provenance": [],
      "collapsed_sections": [],
      "authorship_tag": "ABX9TyO7hYcRIzoUXm4cYzfRLi1g",
      "include_colab_link": true
    },
    "kernelspec": {
      "name": "python3",
      "display_name": "Python 3"
    },
    "language_info": {
      "name": "python"
    }
  },
  "cells": [
    {
      "cell_type": "markdown",
      "metadata": {
        "id": "view-in-github",
        "colab_type": "text"
      },
      "source": [
        "<a href=\"https://colab.research.google.com/github/kurmi22/LetsUpGrade-AI--ML-/blob/master/basic_programe.ipynb\" target=\"_parent\"><img src=\"https://colab.research.google.com/assets/colab-badge.svg\" alt=\"Open In Colab\"/></a>"
      ]
    },
    {
      "cell_type": "code",
      "metadata": {
        "colab": {
          "base_uri": "https://localhost:8080/"
        },
        "id": "nmph3PrGdSLp",
        "outputId": "278381e1-7c60-4934-f82e-e004872a490e"
      },
      "source": [
        "a = int(input ())\n",
        "b = int(input ())\n",
        "c = int(input ())\n",
        "x=(b**2)-(4*a*c)\n",
        "print(x)\n",
        "x1= (-b+(x**0.5))/(2*a)\n",
        "x2= (-b-(x**0.5))/(2*a)\n",
        "print (x1,x2)\n"
      ],
      "execution_count": 49,
      "outputs": [
        {
          "output_type": "stream",
          "text": [
            "1\n",
            "3\n",
            "2\n",
            "1\n",
            "-1.0 -2.0\n"
          ],
          "name": "stdout"
        }
      ]
    },
    {
      "cell_type": "code",
      "metadata": {
        "id": "97Olw7eMi6Qv"
      },
      "source": [
        "\n"
      ],
      "execution_count": null,
      "outputs": []
    },
    {
      "cell_type": "markdown",
      "metadata": {
        "id": "KIRfdwH5qpiy"
      },
      "source": [
        "To find Area rectangular, circle, triangle,rhombus "
      ]
    },
    {
      "cell_type": "code",
      "metadata": {
        "colab": {
          "base_uri": "https://localhost:8080/"
        },
        "id": "UeD_-r73qrDE",
        "outputId": "e31bf1dc-7353-42a9-ec42-fdbf4fe50acf"
      },
      "source": [
        "r =int(input())\n",
        "b1 =int(input())\n",
        "W = int(input())\n",
        "H = int(input())"
      ],
      "execution_count": 58,
      "outputs": [
        {
          "output_type": "stream",
          "text": [
            "10\n",
            "20\n",
            "30\n",
            "40\n"
          ],
          "name": "stdout"
        }
      ]
    },
    {
      "cell_type": "markdown",
      "metadata": {
        "id": "iIjap_qbKuOk"
      },
      "source": [
        "Area of rectangular "
      ]
    },
    {
      "cell_type": "code",
      "metadata": {
        "colab": {
          "base_uri": "https://localhost:8080/"
        },
        "id": "tWfa1o19KtXt",
        "outputId": "db99c3af-cc74-49c3-fc85-2ee4ebc4ba31"
      },
      "source": [
        "Area = 0.5*b1*H\n",
        "print(Area)"
      ],
      "execution_count": 59,
      "outputs": [
        {
          "output_type": "stream",
          "text": [
            "400.0\n"
          ],
          "name": "stdout"
        }
      ]
    },
    {
      "cell_type": "markdown",
      "metadata": {
        "id": "dSkhKeVKLZGv"
      },
      "source": [
        "Area of Rectangle\n",
        "\n",
        "---\n",
        "\n"
      ]
    },
    {
      "cell_type": "code",
      "metadata": {
        "colab": {
          "base_uri": "https://localhost:8080/"
        },
        "id": "kjgpLYtUi-lL",
        "outputId": "da05e0ee-3c21-4505-da76-80e50d8d43de"
      },
      "source": [
        "Rect = W*H\n",
        "print(Rect)"
      ],
      "execution_count": 60,
      "outputs": [
        {
          "output_type": "stream",
          "text": [
            "1200\n"
          ],
          "name": "stdout"
        }
      ]
    },
    {
      "cell_type": "markdown",
      "metadata": {
        "id": "SXQPLvZgMM5c"
      },
      "source": [
        "Area of Circle"
      ]
    },
    {
      "cell_type": "code",
      "metadata": {
        "colab": {
          "base_uri": "https://localhost:8080/"
        },
        "id": "5APn4RaVMVKe",
        "outputId": "4e5e51f2-4390-4c20-95a7-4c2f9044ecff"
      },
      "source": [
        "cir =(22*(r**2)/(7))\n",
        "print(cir)"
      ],
      "execution_count": 66,
      "outputs": [
        {
          "output_type": "stream",
          "text": [
            "314.2857142857143\n"
          ],
          "name": "stdout"
        }
      ]
    }
  ]
}